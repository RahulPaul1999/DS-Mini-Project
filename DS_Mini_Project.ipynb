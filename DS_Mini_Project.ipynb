{
  "nbformat": 4,
  "nbformat_minor": 0,
  "metadata": {
    "colab": {
      "name": "DS Mini Project.ipynb",
      "provenance": [],
      "collapsed_sections": [],
      "mount_file_id": "1rV_bOVYpMQYdXFrRPd-yKzwA7nz-WXYA",
      "authorship_tag": "ABX9TyOfFnsx69Jjy3YFz3Q/ylAW",
      "include_colab_link": true
    },
    "kernelspec": {
      "name": "python3",
      "display_name": "Python 3"
    },
    "language_info": {
      "name": "python"
    },
    "accelerator": "TPU"
  },
  "cells": [
    {
      "cell_type": "markdown",
      "metadata": {
        "id": "view-in-github",
        "colab_type": "text"
      },
      "source": [
        "<a href=\"https://colab.research.google.com/github/RahulPaul1999/DS-Mini-Project/blob/main/DS_Mini_Project.ipynb\" target=\"_parent\"><img src=\"https://colab.research.google.com/assets/colab-badge.svg\" alt=\"Open In Colab\"/></a>"
      ]
    },
    {
      "cell_type": "code",
      "metadata": {
        "colab": {
          "base_uri": "https://localhost:8080/"
        },
        "id": "0gzGxSjpSgpN",
        "outputId": "07c1e2c2-a552-4cd3-9b5e-fdd0280f5672"
      },
      "source": [
        "!pip install ipython-autotime\n",
        "%load_ext autotime"
      ],
      "execution_count": 1,
      "outputs": [
        {
          "output_type": "stream",
          "text": [
            "Collecting ipython-autotime\n",
            "  Downloading https://files.pythonhosted.org/packages/b4/c9/b413a24f759641bc27ef98c144b590023c8038dfb8a3f09e713e9dff12c1/ipython_autotime-0.3.1-py2.py3-none-any.whl\n",
            "Requirement already satisfied: ipython in /usr/local/lib/python3.7/dist-packages (from ipython-autotime) (5.5.0)\n",
            "Requirement already satisfied: decorator in /usr/local/lib/python3.7/dist-packages (from ipython->ipython-autotime) (4.4.2)\n",
            "Requirement already satisfied: setuptools>=18.5 in /usr/local/lib/python3.7/dist-packages (from ipython->ipython-autotime) (57.0.0)\n",
            "Requirement already satisfied: pygments in /usr/local/lib/python3.7/dist-packages (from ipython->ipython-autotime) (2.6.1)\n",
            "Requirement already satisfied: prompt-toolkit<2.0.0,>=1.0.4 in /usr/local/lib/python3.7/dist-packages (from ipython->ipython-autotime) (1.0.18)\n",
            "Requirement already satisfied: simplegeneric>0.8 in /usr/local/lib/python3.7/dist-packages (from ipython->ipython-autotime) (0.8.1)\n",
            "Requirement already satisfied: pexpect; sys_platform != \"win32\" in /usr/local/lib/python3.7/dist-packages (from ipython->ipython-autotime) (4.8.0)\n",
            "Requirement already satisfied: pickleshare in /usr/local/lib/python3.7/dist-packages (from ipython->ipython-autotime) (0.7.5)\n",
            "Requirement already satisfied: traitlets>=4.2 in /usr/local/lib/python3.7/dist-packages (from ipython->ipython-autotime) (5.0.5)\n",
            "Requirement already satisfied: six>=1.9.0 in /usr/local/lib/python3.7/dist-packages (from prompt-toolkit<2.0.0,>=1.0.4->ipython->ipython-autotime) (1.15.0)\n",
            "Requirement already satisfied: wcwidth in /usr/local/lib/python3.7/dist-packages (from prompt-toolkit<2.0.0,>=1.0.4->ipython->ipython-autotime) (0.2.5)\n",
            "Requirement already satisfied: ptyprocess>=0.5 in /usr/local/lib/python3.7/dist-packages (from pexpect; sys_platform != \"win32\"->ipython->ipython-autotime) (0.7.0)\n",
            "Requirement already satisfied: ipython-genutils in /usr/local/lib/python3.7/dist-packages (from traitlets>=4.2->ipython->ipython-autotime) (0.2.0)\n",
            "Installing collected packages: ipython-autotime\n",
            "Successfully installed ipython-autotime-0.3.1\n",
            "time: 2.58 ms (started: 2021-06-25 06:11:02 +00:00)\n"
          ],
          "name": "stdout"
        }
      ]
    },
    {
      "cell_type": "code",
      "metadata": {
        "colab": {
          "base_uri": "https://localhost:8080/"
        },
        "id": "gtSwYE2ARjT9",
        "outputId": "5d49183c-730b-4476-9cab-aec12556c6fc"
      },
      "source": [
        "# Install Bing Image Downloader\n",
        "!pip install bing-image-downloader"
      ],
      "execution_count": null,
      "outputs": [
        {
          "output_type": "stream",
          "text": [
            "Collecting bing-image-downloader\n",
            "  Downloading https://files.pythonhosted.org/packages/c2/04/1872a689a30036aa0b81ac9fca124a7413cad71fdab714f727cf1a34b671/bing_image_downloader-1.1.1-py3-none-any.whl\n",
            "Installing collected packages: bing-image-downloader\n",
            "Successfully installed bing-image-downloader-1.1.1\n",
            "time: 3.14 s (started: 2021-06-22 19:51:25 +00:00)\n"
          ],
          "name": "stdout"
        }
      ]
    },
    {
      "cell_type": "code",
      "metadata": {
        "id": "TgEt7pWLwYYL",
        "colab": {
          "base_uri": "https://localhost:8080/"
        },
        "outputId": "6ef584c6-72f1-413b-eecb-a49e409d6fbb"
      },
      "source": [
        "# Setting up OS Environment\n",
        "import os\n",
        "os.environ['KAGGLE_CONFIG_DIR'] = '/content/drive/MyDrive/Colab Notebooks/DS Mini Project'"
      ],
      "execution_count": 2,
      "outputs": [
        {
          "output_type": "stream",
          "text": [
            "time: 1.9 ms (started: 2021-06-25 06:21:49 +00:00)\n"
          ],
          "name": "stdout"
        }
      ]
    },
    {
      "cell_type": "code",
      "metadata": {
        "colab": {
          "base_uri": "https://localhost:8080/"
        },
        "id": "f42QHmxew1pm",
        "outputId": "8d561516-afb2-4360-f249-ba487c861ab7"
      },
      "source": [
        "# Project Folder\n",
        "%cd'/content/drive/MyDrive/Colab Notebooks/DS Mini Project'"
      ],
      "execution_count": 12,
      "outputs": [
        {
          "output_type": "stream",
          "text": [
            "/content/drive/MyDrive/Colab Notebooks/DS Mini Project\n",
            "time: 10.8 ms (started: 2021-06-25 06:25:07 +00:00)\n"
          ],
          "name": "stdout"
        }
      ]
    },
    {
      "cell_type": "code",
      "metadata": {
        "colab": {
          "base_uri": "https://localhost:8080/"
        },
        "id": "fO6j-THERys1",
        "outputId": "840129b3-84e5-437b-f574-6b9a4a16b1b9"
      },
      "source": [
        "DATADIR = '/content/drive/MyDrive/Colab Notebooks/DS Mini Project/train_data'\n",
        "CATEGORIES = ['cats', 'dogs']"
      ],
      "execution_count": 13,
      "outputs": [
        {
          "output_type": "stream",
          "text": [
            "time: 1.34 ms (started: 2021-06-25 06:25:13 +00:00)\n"
          ],
          "name": "stdout"
        }
      ]
    },
    {
      "cell_type": "code",
      "metadata": {
        "colab": {
          "base_uri": "https://localhost:8080/"
        },
        "id": "_ZVNBNTUSUwr",
        "outputId": "41b87096-4a7e-4c80-e1b1-4812b70427ea"
      },
      "source": [
        "# Downloading Images for Category 1\n",
        "from bing_image_downloader import downloader\n",
        "downloader.download(\"cats\", limit=100, output_dir = DATADIR)"
      ],
      "execution_count": null,
      "outputs": [
        {
          "output_type": "stream",
          "text": [
            "[%] Downloading Images to /content/drive/MyDrive/Colab Notebooks/DS Mini Project/train_data/cats\n",
            "\n",
            "\n",
            "[!!]Indexing page: 1\n",
            "\n",
            "[%] Indexed 100 Images on Page 1.\n",
            "\n",
            "===============================================\n",
            "\n",
            "[%] Downloading Image #1 from https://miaustore.com/uk/wp-content/uploads/sites/3/2018/04/sad-cat.jpg\n",
            "[%] File Downloaded !\n",
            "\n",
            "[%] Downloading Image #2 from https://cdn.shortpixel.ai/client/q_lossy,ret_img,w_1000/https://www.ukpets.com/blog/wp-content/uploads/2018/05/cat.jpg\n",
            "[%] File Downloaded !\n",
            "\n",
            "[%] Downloading Image #3 from http://klyker.com/wp-content/uploads/2014/10/hellish-cats-32.jpg\n",
            "[%] File Downloaded !\n",
            "\n",
            "[%] Downloading Image #4 from https://i.pinimg.com/originals/12/c8/4f/12c84fafbc0853a92326a312e0754452.jpg\n",
            "[%] File Downloaded !\n",
            "\n",
            "[%] Downloading Image #5 from https://itsalovelylife.com/wp-content/uploads/2015/05/cat-photos-1400x700.jpg\n",
            "[%] File Downloaded !\n",
            "\n",
            "[%] Downloading Image #6 from https://i.pinimg.com/originals/6d/2d/02/6d2d02a6860d3f0ed30ea159f5c3cdf0.jpg\n",
            "[%] File Downloaded !\n",
            "\n",
            "[%] Downloading Image #7 from https://i1.wp.com/img.huffingtonpost.com/asset/crop_66_81_3761_2203,scalefit_630_noupscale/55f9867b2000002500242462.jpeg\n",
            "[%] File Downloaded !\n",
            "\n",
            "[%] Downloading Image #8 from https://i.pinimg.com/originals/27/a1/fc/27a1fc43537ed731a659fb4158652e33.jpg\n",
            "[%] File Downloaded !\n",
            "\n",
            "[%] Downloading Image #9 from https://getesa.com/img/articles/cats-as-emotional-support-animals-the-true-miracles.jpg?time=1597960974\n",
            "[%] File Downloaded !\n",
            "\n",
            "[%] Downloading Image #10 from https://www.peta.org/wp-content/uploads/2015/07/cats4.jpg\n",
            "[%] File Downloaded !\n",
            "\n",
            "[%] Downloading Image #11 from https://i.redd.it/q6zm2yvh6pwy.jpg\n",
            "[%] File Downloaded !\n",
            "\n",
            "[%] Downloading Image #12 from https://i.pinimg.com/originals/2a/e3/73/2ae3735fe748d8de127670dc71d39cf1.jpg\n",
            "[%] File Downloaded !\n",
            "\n",
            "[%] Downloading Image #13 from https://i.redd.it/m5t154yptg741.jpg\n",
            "[%] File Downloaded !\n",
            "\n",
            "[%] Downloading Image #14 from https://i.pinimg.com/originals/2c/9f/49/2c9f495c465ad38a539d563bcb1f2ecb.jpg\n",
            "[%] File Downloaded !\n",
            "\n",
            "[%] Downloading Image #15 from https://www.purina.com/sites/g/files/auxxlc196/files/TrueNatureArticle_Header_2.jpg\n",
            "[%] File Downloaded !\n",
            "\n",
            "[%] Downloading Image #16 from https://i.pinimg.com/originals/d2/91/6b/d2916b44c6eee071e0f36e86939c859b.jpg\n",
            "[%] File Downloaded !\n",
            "\n",
            "[%] Downloading Image #17 from https://www.landofcats.net/images/2016/07/Tiffanys-cat-story-Land-of-Cats.jpg\n",
            "[%] File Downloaded !\n",
            "\n",
            "[%] Downloading Image #18 from https://i.pinimg.com/originals/e8/6f/66/e86f66326c814c6a3892e697d0c8d76d.jpg\n",
            "[%] File Downloaded !\n",
            "\n",
            "[%] Downloading Image #19 from https://vivacatcat.com/wp-content/uploads/2020/05/Happy-Mother’s-Day-7-True-Stories-Of-Amazing-Mama-Cats-Who-Saved-Their-Babies.jpg\n",
            "[!] Issue getting: https://vivacatcat.com/wp-content/uploads/2020/05/Happy-Mother’s-Day-7-True-Stories-Of-Amazing-Mama-Cats-Who-Saved-Their-Babies.jpg\n",
            "[!] Error:: 'ascii' codec can't encode character '\\u2019' in position 44: ordinal not in range(128)\n",
            "[%] Downloading Image #19 from https://catlov.com/wp-content/uploads/2016/11/cat-fighting-13.jpg\n",
            "[%] File Downloaded !\n",
            "\n",
            "[%] Downloading Image #20 from https://i.pinimg.com/originals/ae/2c/7f/ae2c7fbdf401ded3e31930a37d544408.jpg\n",
            "[%] File Downloaded !\n",
            "\n",
            "[%] Downloading Image #21 from http://i.kinja-img.com/gawker-media/image/upload/s--dMWs-Jn1--/c_scale,fl_progressive,q_80,w_800/1975y20te1f0hpng.png\n",
            "[%] File Downloaded !\n",
            "\n",
            "[%] Downloading Image #22 from https://i.pinimg.com/736x/9c/78/e2/9c78e2066452d40e91041a42dc0ed82d--silly-cats-cute-cats.jpg\n",
            "[%] File Downloaded !\n",
            "\n",
            "[%] Downloading Image #23 from http://4.bp.blogspot.com/-p-jYv27m13A/UWrB6d-If3I/AAAAAAAARB8/MhVxHRfT_EY/s1600/016+(2).JPG\n",
            "[%] File Downloaded !\n",
            "\n",
            "[%] Downloading Image #24 from https://i.pinimg.com/originals/a7/56/50/a756508e4b448adbf682e438a39d1f70.jpg\n",
            "[%] File Downloaded !\n",
            "\n",
            "[%] Downloading Image #25 from https://pictures-of-cats.org/wp-content/uploads/2018/06/inexpensive-cats.jpg\n",
            "[%] File Downloaded !\n",
            "\n",
            "[%] Downloading Image #26 from https://i.pinimg.com/736x/a4/90/b4/a490b45d27096c8fef12d67b593ec3aa.jpg\n",
            "[%] File Downloaded !\n",
            "\n",
            "[%] Downloading Image #27 from https://i1.wp.com/eurweb.com/wp-content/uploads/2015/01/cats_generic.jpg?resize=1000%2C600&amp;ssl=1\n",
            "[%] File Downloaded !\n",
            "\n",
            "[%] Downloading Image #28 from http://moderncat.com/sites/default/files/images/articles/top_images/TrueCatFacts-header.jpg\n",
            "[%] File Downloaded !\n",
            "\n",
            "[%] Downloading Image #29 from https://catlov.com/wp-content/uploads/2017/06/Featured-cattitude-FB.jpg\n",
            "[%] File Downloaded !\n",
            "\n",
            "[%] Downloading Image #30 from https://i.pinimg.com/originals/f2/9d/ca/f29dcaffb79aee72e5bd37b9d22fd48b.jpg\n",
            "[%] File Downloaded !\n",
            "\n",
            "[%] Downloading Image #31 from https://4.bp.blogspot.com/-NaQi3tthgFU/UVcYATei2bI/AAAAAAAAQyo/ukI_G46_cbY/s1600/007+(2).JPG\n",
            "[%] File Downloaded !\n",
            "\n",
            "[%] Downloading Image #32 from http://klyker.com/wp-content/uploads/2014/10/hellish-cats-37.jpg\n",
            "[%] File Downloaded !\n",
            "\n",
            "[%] Downloading Image #33 from https://i.pinimg.com/736x/ad/0e/a5/ad0ea5c3beba4f0470add2497d42c8ad.jpg\n",
            "[%] File Downloaded !\n",
            "\n",
            "[%] Downloading Image #34 from https://i.pinimg.com/originals/ec/6c/c7/ec6cc7dcda8df9a6e6c631b7f58d365d.jpg\n",
            "[%] File Downloaded !\n",
            "\n",
            "[%] Downloading Image #35 from https://thumbs-prod.si-cdn.com/4whXgBdiFH0V_YhnR3uVjAihyW0=/1072x720/filters:no_upscale()/https://public.media.tweentribune.com/tt/header/CatsTS2.jpg\n",
            "[%] File Downloaded !\n",
            "\n",
            "[%] Downloading Image #36 from https://allthingsfadra.com/wp-content/uploads/2015/06/DSC09050.jpg\n",
            "[%] File Downloaded !\n",
            "\n",
            "[%] Downloading Image #37 from https://i.pinimg.com/originals/9a/6a/a0/9a6aa08f78d1c429413b8e8367fc2dcb.jpg\n",
            "[%] File Downloaded !\n",
            "\n",
            "[%] Downloading Image #38 from https://catlov.com/wp-content/uploads/2017/06/cats-with-cattitude-3.jpg\n",
            "[%] File Downloaded !\n",
            "\n",
            "[%] Downloading Image #39 from https://i.pinimg.com/originals/58/93/dc/5893dc2bf7638763544552350f14aa46.jpg\n",
            "[%] File Downloaded !\n",
            "\n",
            "[%] Downloading Image #40 from https://1.bp.blogspot.com/-GQFcQQDHFHU/XlNLTWFkTjI/AAAAAAAAAE4/5W7YGU3E85Mjn6AoolcszAYpDr8_BM4nACLcBGAsYHQ/s640/5e534b20bef0f.png\n",
            "[%] File Downloaded !\n",
            "\n",
            "[%] Downloading Image #41 from https://i.pinimg.com/originals/f1/97/66/f19766a0660f459133925245168a6557.jpg\n",
            "[%] File Downloaded !\n",
            "\n",
            "[%] Downloading Image #42 from https://www.truecareveterinaryhospital.com/blog/wp-content/uploads/2020/02/iStock-145187086-3.jpg\n",
            "[%] File Downloaded !\n",
            "\n",
            "[%] Downloading Image #43 from http://www.trueanimals.com/wp-content/uploads/2012/02/cats-facts.jpg\n",
            "[%] File Downloaded !\n",
            "\n",
            "[%] Downloading Image #44 from https://i.pinimg.com/originals/77/92/aa/7792aa273c81d599cb39753c665444eb.jpg\n",
            "[%] File Downloaded !\n",
            "\n",
            "[%] Downloading Image #45 from https://i.pinimg.com/originals/48/04/fd/4804fd5a718a626d915254714122dda7.png\n",
            "[%] File Downloaded !\n",
            "\n",
            "[%] Downloading Image #46 from https://i.ytimg.com/vi/F9wv0bodMXg/maxresdefault.jpg\n",
            "[%] File Downloaded !\n",
            "\n",
            "[%] Downloading Image #47 from http://img.sparknotes.com/content/sparklife/sparktalk/2013/cat_sparklife_LargeWide.jpg\n",
            "[%] File Downloaded !\n",
            "\n",
            "[%] Downloading Image #48 from https://usercontent2.hubstatic.com/4876441_f1024.jpg\n",
            "[%] File Downloaded !\n",
            "\n",
            "[%] Downloading Image #49 from https://i.rmbl.ws/s8/1/P/m/-/1/Pm-1a.qR4e-small-True-Facts-About-Cats.jpg\n",
            "[%] File Downloaded !\n",
            "\n",
            "[%] Downloading Image #50 from https://www.glbooks.com.co/wp-content/uploads/2020/08/A-True-Book-The-Most-Endangered-Big-Cats.jpg\n",
            "[%] File Downloaded !\n",
            "\n",
            "[%] Downloading Image #51 from https://yt3.ggpht.com/a/AATXAJymPcyf052Nr2Q5TeFy9JJGqdv_zcUBilZDtQ=s900-c-k-c0xffffffff-no-rj-mo\n",
            "[%] File Downloaded !\n",
            "\n",
            "[%] Downloading Image #52 from https://i.insider.com/5cab6ae592c88604b4564efb?width=1200&amp;format=jpeg\n",
            "[%] File Downloaded !\n",
            "\n",
            "[%] Downloading Image #53 from https://usercontent1.hubstatic.com/14627836_f1024.jpg\n",
            "[%] File Downloaded !\n",
            "\n",
            "[%] Downloading Image #54 from https://blog.wholesomeculture.com/wp-content/uploads/2019/10/kevin-ianeselli-f4Rqde3qULw-unsplash-768x1024.jpg\n",
            "[%] File Downloaded !\n",
            "\n",
            "[%] Downloading Image #55 from https://i.pinimg.com/originals/70/a8/e1/70a8e18cabd14e71c4bbc440d89abb48.png\n",
            "[%] File Downloaded !\n",
            "\n",
            "[%] Downloading Image #56 from https://images.saymedia-content.com/.image/c_limit%2Ccs_srgb%2Cfl_progressive%2Cq_auto:good%2Cw_700/MTc0OTY5MTY5MzIxMDEwNjI4/amazing-cats-and-true-cat-stories.jpg\n",
            "[%] File Downloaded !\n",
            "\n",
            "[%] Downloading Image #57 from https://1.bp.blogspot.com/-EqA1gFr56XM/UeddbOqdqQI/AAAAAAAAPIk/jKUX8HKu2Xo/s1600/ct4.jpg\n",
            "[%] File Downloaded !\n",
            "\n",
            "[%] Downloading Image #58 from https://i.pinimg.com/originals/5c/15/3f/5c153fbfb5be934d53f737baf1a89b1e.jpg\n",
            "[%] File Downloaded !\n",
            "\n",
            "[%] Downloading Image #59 from https://live.staticflickr.com/3922/14824426761_f5865ced66_z.jpg\n",
            "[Error]Invalid image, not saving https://live.staticflickr.com/3922/14824426761_f5865ced66_z.jpg\n",
            "\n",
            "[!] Issue getting: https://live.staticflickr.com/3922/14824426761_f5865ced66_z.jpg\n",
            "[!] Error:: Invalid image, not saving https://live.staticflickr.com/3922/14824426761_f5865ced66_z.jpg\n",
            "\n",
            "[%] Downloading Image #59 from https://i.pinimg.com/originals/c4/a4/3b/c4a43b2a478cf2999619eee7cba1aa69.jpg\n",
            "[%] File Downloaded !\n",
            "\n",
            "[%] Downloading Image #60 from https://i.pinimg.com/originals/6a/99/57/6a9957c55dbd565ae21d993905f38812.jpg\n",
            "[%] File Downloaded !\n",
            "\n",
            "[%] Downloading Image #61 from http://1.bp.blogspot.com/_LO8VtzTruTQ/TUB8VNGCIfI/AAAAAAAAFfI/feYQ0YZ-CaM/s1600/P1010052.JPG\n",
            "[%] File Downloaded !\n",
            "\n",
            "[%] Downloading Image #62 from https://i.pinimg.com/originals/c2/1a/80/c21a801d2c5a732af8f62babded549fd.jpg\n",
            "[%] File Downloaded !\n",
            "\n",
            "[%] Downloading Image #63 from https://i.pinimg.com/originals/14/4f/1c/144f1c03e4b6b1dff756021b4ddd9462.jpg\n",
            "[%] File Downloaded !\n",
            "\n",
            "[%] Downloading Image #64 from https://i.pinimg.com/originals/b8/57/c2/b857c25538e7c3cf450777bf47d22017.jpg\n",
            "[%] File Downloaded !\n",
            "\n",
            "[%] Downloading Image #65 from https://i.pinimg.com/originals/55/08/e0/5508e023f707aedfb4f11ad1780735a1.jpg\n",
            "[%] File Downloaded !\n",
            "\n",
            "[%] Downloading Image #66 from https://i.pinimg.com/originals/4f/74/aa/4f74aac703022ea82d6273718a72ae76.jpg\n",
            "[%] File Downloaded !\n",
            "\n",
            "[%] Downloading Image #67 from https://i.pinimg.com/originals/6b/62/73/6b62735a43a0df1b82dbb3f565d54939.jpg\n",
            "[%] File Downloaded !\n",
            "\n",
            "[%] Downloading Image #68 from https://blog.wholesomeculture.com/wp-content/uploads/2019/10/black-black-cat-blur-1510543-1024x768.jpg\n",
            "[%] File Downloaded !\n",
            "\n",
            "[%] Downloading Image #69 from https://img00.deviantart.net/3b80/i/2013/304/e/b/cats_true_nature__the_hunter_by_allatez-d6sjgnq.jpg\n",
            "[%] File Downloaded !\n",
            "\n",
            "[%] Downloading Image #70 from https://i.pinimg.com/originals/00/e4/e1/00e4e1988aa06cfa0ec2f30ca17c41c6.jpg\n",
            "[%] File Downloaded !\n",
            "\n",
            "[%] Downloading Image #71 from https://1.bp.blogspot.com/-jYCBs5MnkKI/VV1husaAY2I/AAAAAAAAWdI/6gsyokfNqgA/s1600/arya.jpg\n",
            "[%] File Downloaded !\n",
            "\n",
            "[%] Downloading Image #72 from https://media2.fdncms.com/inlander/imager/u/blog/3455864/film2-1-8e4fcbdd8378efa1.jpg?cb=1490396668\n",
            "[%] File Downloaded !\n",
            "\n",
            "[%] Downloading Image #73 from https://i.ytimg.com/vi/X5Gdxa6QPgY/maxresdefault.jpg\n",
            "[%] File Downloaded !\n",
            "\n",
            "[%] Downloading Image #74 from https://pawsplanet.me/wp-content/uploads/2017/07/15-Cats-With-True-Cattitude-7-960x480.jpg\n",
            "[%] File Downloaded !\n",
            "\n",
            "[%] Downloading Image #75 from https://i.pinimg.com/originals/ae/f8/21/aef82198bab32cd290f149b04a3a4780.jpg\n",
            "[%] File Downloaded !\n",
            "\n",
            "[%] Downloading Image #76 from https://qph.fs.quoracdn.net/main-qimg-efe0a02723af33943fc87050b22b3cb7\n",
            "[%] File Downloaded !\n",
            "\n",
            "[%] Downloading Image #77 from https://qph.fs.quoracdn.net/main-qimg-921dbd2aa3ef66953bcc847e8ad14efb\n",
            "[%] File Downloaded !\n",
            "\n",
            "[%] Downloading Image #78 from https://qph.fs.quoracdn.net/main-qimg-c3ebbab8c655106b5bd11771e4a89dab\n",
            "[%] File Downloaded !\n",
            "\n",
            "[%] Downloading Image #79 from https://www.top13.net/wp-content/uploads/2017/03/cat-perfect-3.jpg\n",
            "[%] File Downloaded !\n",
            "\n",
            "[%] Downloading Image #80 from https://i.pinimg.com/originals/91/56/83/915683193e2e09030591c02848e4cfa9.jpg\n",
            "[%] File Downloaded !\n",
            "\n",
            "[%] Downloading Image #81 from https://is5-ssl.mzstatic.com/image/thumb/Purple1/v4/06/18/d5/0618d57b-c684-992a-d326-f5e5cad68e3e/source/512x512bb.jpg\n",
            "[%] File Downloaded !\n",
            "\n",
            "[%] Downloading Image #82 from https://i.pinimg.com/originals/2c/78/e9/2c78e9e9a1832a7aece9aa4f7222bdd7.jpg\n",
            "[%] File Downloaded !\n",
            "\n",
            "[%] Downloading Image #83 from https://pbs.twimg.com/media/BrT7g_nIEAI-bVV.jpg:large\n",
            "[%] File Downloaded !\n",
            "\n",
            "[%] Downloading Image #84 from https://drb960u7vv58y.cloudfront.net/resize/154475/1200/630/image.jpg\n",
            "[%] File Downloaded !\n",
            "\n",
            "[%] Downloading Image #85 from https://i.pinimg.com/originals/27/1f/e1/271fe165279eff5edc72d758653fc0f3.jpg\n",
            "[%] File Downloaded !\n",
            "\n",
            "[%] Downloading Image #86 from https://i.imgur.com/1zKqGew.jpg\n",
            "[Error]Invalid image, not saving https://i.imgur.com/1zKqGew.jpg\n",
            "\n",
            "[!] Issue getting: https://i.imgur.com/1zKqGew.jpg\n",
            "[!] Error:: Invalid image, not saving https://i.imgur.com/1zKqGew.jpg\n",
            "\n",
            "[%] Downloading Image #86 from https://i.pinimg.com/originals/2c/7a/5c/2c7a5cd99900dfbbe84b0ee8c8fe5a2d.jpg\n",
            "[%] File Downloaded !\n",
            "\n",
            "[%] Downloading Image #87 from https://www.4pawsvet.com.au/wp-content/uploads/2019/10/Blocked-cats-–-a-true-emergency.jpg\n",
            "[!] Issue getting: https://www.4pawsvet.com.au/wp-content/uploads/2019/10/Blocked-cats-–-a-true-emergency.jpg\n",
            "[!] Error:: 'ascii' codec can't encode character '\\u2013' in position 45: ordinal not in range(128)\n",
            "[%] Downloading Image #87 from https://i.pinimg.com/originals/cd/14/33/cd14336fc5b46d765204006e1b1702f1.jpg\n",
            "[%] File Downloaded !\n",
            "\n",
            "[%] Downloading Image #88 from https://fit-cats.com/wp-content/uploads/2016/01/maxresdefault-1024x576.jpg\n",
            "[%] File Downloaded !\n",
            "\n",
            "[%] Downloading Image #89 from https://i.pinimg.com/originals/c2/84/a8/c284a8398f1be80b2b8ec3aa03f3b3aa.jpg\n",
            "[%] File Downloaded !\n",
            "\n",
            "[%] Downloading Image #90 from https://i.pinimg.com/736x/86/df/ff/86dfff35981b8bceaa3fcced9d983f72.jpg\n",
            "[%] File Downloaded !\n",
            "\n",
            "[%] Downloading Image #91 from https://i.ytimg.com/vi/4AR-gM8El2w/maxresdefault.jpg\n",
            "[%] File Downloaded !\n",
            "\n",
            "[%] Downloading Image #92 from https://i.pinimg.com/736x/61/07/8d/61078dc2eb51b6dafac19cebf471ae8a--my-children-cat-quotes.jpg\n",
            "[%] File Downloaded !\n",
            "\n",
            "[%] Downloading Image #93 from https://lovekid.vn/wp-content/uploads/2020/05/1589453372_maxresdefault.jpg\n",
            "[%] File Downloaded !\n",
            "\n",
            "[%] Downloading Image #94 from https://qph.fs.quoracdn.net/main-qimg-b452cd4959b19d1c27628041f0cbf5b2\n",
            "[%] File Downloaded !\n",
            "\n",
            "[%] Downloading Image #95 from https://img00.deviantart.net/a11c/i/2016/206/d/8/when_cats_know_your_one_true_weakness_by_shadowtailsderol-dabe134.jpg\n",
            "[%] File Downloaded !\n",
            "\n",
            "[%] Downloading Image #96 from https://i.pinimg.com/originals/22/9a/6d/229a6dc8ef86ae4e722e277cc37fdac5.jpg\n",
            "[%] File Downloaded !\n",
            "\n",
            "\n",
            "\n",
            "[!!]Indexing page: 2\n",
            "\n",
            "[%] Indexed 35 Images on Page 2.\n",
            "\n",
            "===============================================\n",
            "\n",
            "[%] Downloading Image #97 from https://miaustore.com/uk/wp-content/uploads/sites/3/2018/04/sad-cat.jpg\n",
            "[%] File Downloaded !\n",
            "\n",
            "[%] Downloading Image #98 from https://cdn.shortpixel.ai/client/q_lossy,ret_img,w_1000/https://www.ukpets.com/blog/wp-content/uploads/2018/05/cat.jpg\n",
            "[%] File Downloaded !\n",
            "\n",
            "[%] Downloading Image #99 from http://klyker.com/wp-content/uploads/2014/10/hellish-cats-32.jpg\n",
            "[%] File Downloaded !\n",
            "\n",
            "[%] Downloading Image #100 from https://i.pinimg.com/originals/12/c8/4f/12c84fafbc0853a92326a312e0754452.jpg\n",
            "[%] File Downloaded !\n",
            "\n",
            "\n",
            "\n",
            "[%] Done. Downloaded 100 images.\n",
            "===============================================\n",
            "\n",
            "Please show your support here\n",
            "https://www.buymeacoffee.com/gurugaurav\n",
            "\n",
            "===============================================\n",
            "\n",
            "time: 34.7 s (started: 2021-06-22 19:56:51 +00:00)\n"
          ],
          "name": "stdout"
        }
      ]
    },
    {
      "cell_type": "code",
      "metadata": {
        "colab": {
          "base_uri": "https://localhost:8080/"
        },
        "id": "IFO-0AizTbxP",
        "outputId": "727d4380-11db-4539-fa07-c37613e3f0aa"
      },
      "source": [
        "# Downloading Images for Category 2\n",
        "downloader.download(\"dogs\", limit=100, output_dir = DATADIR)"
      ],
      "execution_count": null,
      "outputs": [
        {
          "output_type": "stream",
          "text": [
            "[%] Downloading Images to /content/drive/MyDrive/Colab Notebooks/DS Mini Project/train_data/dogs\n",
            "\n",
            "\n",
            "[!!]Indexing page: 1\n",
            "\n",
            "[%] Indexed 100 Images on Page 1.\n",
            "\n",
            "===============================================\n",
            "\n",
            "[%] Downloading Image #1 from http://englishrussia.com/wp-content/uploads/2015/04/516.jpg\n",
            "[%] File Downloaded !\n",
            "\n",
            "[%] Downloading Image #2 from https://img1.grunge.com/img/gallery/false-facts-about-dogs-you-always-thought-were-true/intro.jpg\n",
            "[%] File Downloaded !\n",
            "\n",
            "[%] Downloading Image #3 from https://englishrussia.com/wp-content/uploads/2015/04/1114.jpg\n",
            "[%] File Downloaded !\n",
            "\n",
            "[%] Downloading Image #4 from http://englishrussia.com/wp-content/uploads/2015/04/532.jpg\n",
            "[%] File Downloaded !\n",
            "\n",
            "[%] Downloading Image #5 from https://img2.grunge.com/img/gallery/false-facts-about-dogs-you-always-thought-were-true/dogs-and-cats-just-cant-get-along.jpg\n",
            "[%] File Downloaded !\n",
            "\n",
            "[%] Downloading Image #6 from https://englishrussia.com/wp-content/uploads/2015/04/515.jpg\n",
            "[%] File Downloaded !\n",
            "\n",
            "[%] Downloading Image #7 from https://i.pinimg.com/originals/8c/55/d8/8c55d878ab9d1e83642f355b0b53d782.jpg\n",
            "[%] File Downloaded !\n",
            "\n",
            "[%] Downloading Image #8 from http://englishrussia.com/wp-content/uploads/2015/04/274.jpg\n",
            "[%] File Downloaded !\n",
            "\n",
            "[%] Downloading Image #9 from https://englishrussia.com/wp-content/uploads/2015/04/542.jpg\n",
            "[%] File Downloaded !\n",
            "\n",
            "[%] Downloading Image #10 from https://englishrussia.com/wp-content/uploads/2015/04/571.jpg\n",
            "[%] File Downloaded !\n",
            "\n",
            "[%] Downloading Image #11 from https://i.pinimg.com/736x/d9/21/69/d92169ccc58ddf78be18abf923d884a9.jpg\n",
            "[%] File Downloaded !\n",
            "\n",
            "[%] Downloading Image #12 from http://englishrussia.com/wp-content/uploads/2015/04/318.jpg\n",
            "[%] File Downloaded !\n",
            "\n",
            "[%] Downloading Image #13 from http://englishrussia.com/wp-content/uploads/2015/04/234.jpg\n",
            "[%] File Downloaded !\n",
            "\n",
            "[%] Downloading Image #14 from https://i.pinimg.com/originals/f6/ed/93/f6ed93428da9a0fde9154dce09485727.jpg\n",
            "[%] File Downloaded !\n",
            "\n",
            "[%] Downloading Image #15 from https://cdn.petpress.net/wp-content/uploads/2020/03/12023704/dog-11-21.jpg\n",
            "[%] File Downloaded !\n",
            "\n",
            "[%] Downloading Image #16 from https://i.pinimg.com/originals/7f/5d/96/7f5d962b0ec80aa9678609bc59c9a465.jpg\n",
            "[%] File Downloaded !\n",
            "\n",
            "[%] Downloading Image #17 from https://i.pinimg.com/originals/d3/6d/d9/d36dd901012207bcacb75e1481231ca8.jpg\n",
            "[%] File Downloaded !\n",
            "\n",
            "[%] Downloading Image #18 from http://englishrussia.com/wp-content/uploads/2015/04/244.jpg\n",
            "[%] File Downloaded !\n",
            "\n",
            "[%] Downloading Image #19 from https://trueworkingdogs.com/wp-content/uploads/20180422_151229.jpg\n",
            "[%] File Downloaded !\n",
            "\n",
            "[%] Downloading Image #20 from http://englishrussia.com/wp-content/uploads/2015/04/522.jpg\n",
            "[%] File Downloaded !\n",
            "\n",
            "[%] Downloading Image #21 from https://i.pinimg.com/originals/8b/7a/09/8b7a09e00936e33bfd441506b6592e45.jpg\n",
            "[%] File Downloaded !\n",
            "\n",
            "[%] Downloading Image #22 from https://i.pinimg.com/736x/3b/4b/f8/3b4bf81c996cccd1656a9682f5f4c6a8.jpg\n",
            "[%] File Downloaded !\n",
            "\n",
            "[%] Downloading Image #23 from https://oversixtydev.blob.core.windows.net/media/7828551/gettyimages-738788089-1.jpg\n",
            "[%] File Downloaded !\n",
            "\n",
            "[%] Downloading Image #24 from https://img3.grunge.com/img/gallery/false-facts-about-dogs-you-always-thought-were-true/some-dogs-have-locking-jaws-and-off-the-charts-bite-pressure.jpg\n",
            "[%] File Downloaded !\n",
            "\n",
            "[%] Downloading Image #25 from http://englishrussia.com/wp-content/uploads/2015/04/185.jpg\n",
            "[%] File Downloaded !\n",
            "\n",
            "[%] Downloading Image #26 from https://i.pinimg.com/originals/71/81/53/718153b2bbc7376ae2a2d7998621df00.jpg\n",
            "[%] File Downloaded !\n",
            "\n",
            "[%] Downloading Image #27 from https://img4.grunge.com/img/uploads/2016/12/false-facts-about-dogs-you-always-thought-were-true-780x438_rev1.jpg\n",
            "[%] File Downloaded !\n",
            "\n",
            "[%] Downloading Image #28 from https://i.pinimg.com/originals/c2/24/bc/c224bcb8f05b564454b34393e6260e97.jpg\n",
            "[%] File Downloaded !\n",
            "\n",
            "[%] Downloading Image #29 from https://i.pinimg.com/originals/ef/14/32/ef1432cf6e4e96b0aa5dbb2662db797e.jpg\n",
            "[%] File Downloaded !\n",
            "\n",
            "[%] Downloading Image #30 from http://img1.grunge.com/img/gallery/false-facts-about-dogs-you-always-thought-were-true/dogs-will-only-respect-their-alpha.jpg\n",
            "[%] File Downloaded !\n",
            "\n",
            "[%] Downloading Image #31 from http://englishrussia.com/wp-content/uploads/2015/04/622.jpg\n",
            "[%] File Downloaded !\n",
            "\n",
            "[%] Downloading Image #32 from http://www.shedoesthecity.com/wp-content/uploads/files/2013/05/marshall-1.jpg\n",
            "[%] File Downloaded !\n",
            "\n",
            "[%] Downloading Image #33 from https://soundstrue-ha.s3.amazonaws.com/mandala/images/dogs/dogs.jpg\n",
            "[%] File Downloaded !\n",
            "\n",
            "[%] Downloading Image #34 from http://englishrussia.com/wp-content/uploads/2015/04/714.jpg\n",
            "[%] File Downloaded !\n",
            "\n",
            "[%] Downloading Image #35 from https://i.pinimg.com/originals/b0/41/49/b04149fefec7545b6ad2045e8e7aa687.jpg\n",
            "[%] File Downloaded !\n",
            "\n",
            "[%] Downloading Image #36 from https://i1.wp.com/www.allaboutdogs.net/wp-content/uploads/2016/09/Is-it-true-that-dogs-can-smell-fear.jpg?fit=1024%2C685&amp;ssl=1\n",
            "[%] File Downloaded !\n",
            "\n",
            "[%] Downloading Image #37 from http://englishrussia.com/wp-content/uploads/2015/04/481.jpg\n",
            "[%] File Downloaded !\n",
            "\n",
            "[%] Downloading Image #38 from https://i.pinimg.com/736x/8a/ef/cb/8aefcb012ab66f89ff73f29a11fa0e96.jpg\n",
            "[%] File Downloaded !\n",
            "\n",
            "[%] Downloading Image #39 from https://dogwellnet.com/uploads/monthly_2019_11/ekenstedt-dogs.jpg.442a1bf2641690fb7dfb12c213b4e851.jpg\n",
            "[%] File Downloaded !\n",
            "\n",
            "[%] Downloading Image #40 from https://i.pinimg.com/originals/b4/e9/1c/b4e91c21b21debf6acd6350acaaeccc9.jpg\n",
            "[%] File Downloaded !\n",
            "\n",
            "[%] Downloading Image #41 from https://i.ytimg.com/vi/UJZ435NBlfM/maxresdefault.jpg\n",
            "[%] File Downloaded !\n",
            "\n",
            "[%] Downloading Image #42 from https://petrage.net/wp-content/uploads/2020/02/fbkboxers.jpg\n",
            "[%] File Downloaded !\n",
            "\n",
            "[%] Downloading Image #43 from https://drb960u7vv58y.cloudfront.net/resize/155222/1200/630/image.jpg\n",
            "[%] File Downloaded !\n",
            "\n",
            "[%] Downloading Image #44 from http://englishrussia.com/wp-content/uploads/2015/04/333.jpg\n",
            "[%] File Downloaded !\n",
            "\n",
            "[%] Downloading Image #45 from https://www.summeridgeanimalclinic.com/blog/wp-content/uploads/2017/10/Summeridge_iStock-90309437.jpg\n",
            "[Error]Invalid image, not saving https://www.summeridgeanimalclinic.com/blog/wp-content/uploads/2017/10/Summeridge_iStock-90309437.jpg\n",
            "\n",
            "[!] Issue getting: https://www.summeridgeanimalclinic.com/blog/wp-content/uploads/2017/10/Summeridge_iStock-90309437.jpg\n",
            "[!] Error:: Invalid image, not saving https://www.summeridgeanimalclinic.com/blog/wp-content/uploads/2017/10/Summeridge_iStock-90309437.jpg\n",
            "\n",
            "[%] Downloading Image #45 from https://i.pinimg.com/originals/63/22/53/6322532a459678d64e320d4ae3795308.jpg\n",
            "[%] File Downloaded !\n",
            "\n",
            "[%] Downloading Image #46 from http://englishrussia.com/wp-content/uploads/2015/04/139.jpg\n",
            "[%] File Downloaded !\n",
            "\n",
            "[%] Downloading Image #47 from https://i.pinimg.com/originals/cd/14/33/cd14336fc5b46d765204006e1b1702f1.jpg\n",
            "[%] File Downloaded !\n",
            "\n",
            "[%] Downloading Image #48 from https://cdn.acidcow.com/pics/20110823/dogs_in_laps_01.jpg\n",
            "[%] File Downloaded !\n",
            "\n",
            "[%] Downloading Image #49 from https://images-na.ssl-images-amazon.com/images/I/51%2BwRHeWwVL._SY346_.jpg\n",
            "[%] File Downloaded !\n",
            "\n",
            "[%] Downloading Image #50 from https://englishrussia.com/wp-content/uploads/2015/04/205.jpg\n",
            "[%] File Downloaded !\n",
            "\n",
            "[%] Downloading Image #51 from http://englishrussia.com/wp-content/uploads/2015/04/319.jpg\n",
            "[%] File Downloaded !\n",
            "\n",
            "[%] Downloading Image #52 from https://i.pinimg.com/originals/0a/82/7b/0a827ba3602bc1e549d2fdc1491edb85.jpg\n",
            "[%] File Downloaded !\n",
            "\n",
            "[%] Downloading Image #53 from https://i.pinimg.com/originals/5e/ed/f4/5eedf4a039a952eeab283c05413d2982.jpg\n",
            "[%] File Downloaded !\n",
            "\n",
            "[%] Downloading Image #54 from https://i.pinimg.com/originals/4f/82/9e/4f829e141b00a7c9253846bb5fd26a92.jpg\n",
            "[%] File Downloaded !\n",
            "\n",
            "[%] Downloading Image #55 from https://trueworkingdogs.com/wp-content/uploads/20180422_152127.jpg\n",
            "[%] File Downloaded !\n",
            "\n",
            "[%] Downloading Image #56 from https://i.pinimg.com/736x/ea/04/ef/ea04efc415b9cf877c43212b5032b73d--silly-dogs-funny-dogs.jpg\n",
            "[%] File Downloaded !\n",
            "\n",
            "[%] Downloading Image #57 from http://trueworkingdogs.com/wp-content/uploads/20170312_105910.jpg\n",
            "[%] File Downloaded !\n",
            "\n",
            "[%] Downloading Image #58 from https://petrage.net/wp-content/uploads/2020/07/three-boxer-dogs-in-the-pool-petrage-1-833x800.jpg\n",
            "[%] File Downloaded !\n",
            "\n",
            "[%] Downloading Image #59 from http://englishrussia.com/wp-content/uploads/2015/04/344.jpg\n",
            "[%] File Downloaded !\n",
            "\n",
            "[%] Downloading Image #60 from http://englishrussia.com/wp-content/uploads/2015/04/632.jpg\n",
            "[%] File Downloaded !\n",
            "\n",
            "[%] Downloading Image #61 from http://img2.grunge.com/img/gallery/false-facts-about-dogs-you-always-thought-were-true/older-dogs-wont-bond-with-new-people-and-theyll-never-listen.jpg\n",
            "[%] File Downloaded !\n",
            "\n",
            "[%] Downloading Image #62 from https://i.pinimg.com/originals/ca/b1/1f/cab11f94ad680ec1e3d8cbb44b0dd2e2.jpg\n",
            "[%] File Downloaded !\n",
            "\n",
            "[%] Downloading Image #63 from https://i.pinimg.com/originals/1a/72/29/1a722929fe39e3fcc2e7e5c39cb27b56.jpg\n",
            "[%] File Downloaded !\n",
            "\n",
            "[%] Downloading Image #64 from http://englishrussia.com/wp-content/uploads/2015/04/1214.jpg\n",
            "[%] File Downloaded !\n",
            "\n",
            "[%] Downloading Image #65 from https://englishrussia.com/wp-content/uploads/2015/04/551.jpg\n",
            "[%] File Downloaded !\n",
            "\n",
            "[%] Downloading Image #66 from https://trueworkingdogs.com/wp-content/uploads/20180422_150837.jpg\n",
            "[%] File Downloaded !\n",
            "\n",
            "[%] Downloading Image #67 from http://englishrussia.com/wp-content/uploads/2015/04/591.jpg\n",
            "[%] File Downloaded !\n",
            "\n",
            "[%] Downloading Image #68 from http://englishrussia.com/wp-content/uploads/2015/04/304.jpg\n",
            "[%] File Downloaded !\n",
            "\n",
            "[%] Downloading Image #69 from https://trueworkingdogs.com/wp-content/uploads/20170312_110210.jpg\n",
            "[%] File Downloaded !\n",
            "\n",
            "[%] Downloading Image #70 from https://trueworkingdogs.com/wp-content/uploads/20180422_152202.jpg\n",
            "[%] File Downloaded !\n",
            "\n",
            "[%] Downloading Image #71 from https://soundstrue-ha.s3.amazonaws.com/mandala/images/dogs/finn.jpg\n",
            "[%] File Downloaded !\n",
            "\n",
            "[%] Downloading Image #72 from https://i.pinimg.com/736x/30/c9/23/30c923a5ebef78eddd4e6f898ece1db5--inspirational-so-true.jpg\n",
            "[%] File Downloaded !\n",
            "\n",
            "[%] Downloading Image #73 from https://i.ytimg.com/vi/apnDp6oQLdw/maxresdefault.jpg\n",
            "[%] File Downloaded !\n",
            "\n",
            "[%] Downloading Image #74 from https://i.pinimg.com/736x/f1/56/bc/f156bc549a01506746a65909c4b95699.jpg\n",
            "[%] File Downloaded !\n",
            "\n",
            "[%] Downloading Image #75 from https://cdn.acidcow.com/pics/20131209/dog_owners_will_understand_12.jpg\n",
            "[%] File Downloaded !\n",
            "\n",
            "[%] Downloading Image #76 from https://eatliver.b-cdn.net/wp-content/uploads/2018/07/true-love2.jpg\n",
            "[%] File Downloaded !\n",
            "\n",
            "[%] Downloading Image #77 from http://trueworkingdogs.com/wp-content/uploads/20180422_152151.jpg\n",
            "[%] File Downloaded !\n",
            "\n",
            "[%] Downloading Image #78 from https://cdn.acidcow.com/pics/20110823/dogs_in_laps_03.jpg\n",
            "[%] File Downloaded !\n",
            "\n",
            "[%] Downloading Image #79 from http://englishrussia.com/wp-content/uploads/2015/04/145.jpg\n",
            "[%] File Downloaded !\n",
            "\n",
            "[%] Downloading Image #80 from https://i.pinimg.com/originals/c8/69/b9/c869b9ff088203f7b8dd1652d055a2ee.jpg\n",
            "[%] File Downloaded !\n",
            "\n",
            "[%] Downloading Image #81 from https://i.pinimg.com/originals/62/14/00/6214003717180d1e5eb8f2be03518f48.jpg\n",
            "[%] File Downloaded !\n",
            "\n",
            "[%] Downloading Image #82 from http://englishrussia.com/wp-content/uploads/2015/04/225-800x600.jpg\n",
            "[%] File Downloaded !\n",
            "\n",
            "[%] Downloading Image #83 from http://englishrussia.com/wp-content/uploads/2015/04/363.jpg\n",
            "[%] File Downloaded !\n",
            "\n",
            "[%] Downloading Image #84 from https://englishrussia.com/wp-content/uploads/2015/04/651.jpg\n",
            "[%] File Downloaded !\n",
            "\n",
            "[%] Downloading Image #85 from https://petstips.net/wp-content/uploads/2019/06/Dogs-YUP-VERY-VERY-TRUE-dog-train-training-dogtraining.jpg\n",
            "[%] File Downloaded !\n",
            "\n",
            "[%] Downloading Image #86 from https://barkpost.com/wp-content/uploads/2016/04/chickendog-e1459784951336.jpg\n",
            "[%] File Downloaded !\n",
            "\n",
            "[%] Downloading Image #87 from https://gatherboard-images.s3.amazonaws.com/pueblo-events/Denise_Joey-lg.jpg\n",
            "[%] File Downloaded !\n",
            "\n",
            "[%] Downloading Image #88 from http://www.shedoesthecity.com/wp-content/uploads/files/2013/05/marshall-2.jpg\n",
            "[%] File Downloaded !\n",
            "\n",
            "[%] Downloading Image #89 from http://piximus.net/media/4153/dogs-true-friendship-1.jpg\n",
            "[%] File Downloaded !\n",
            "\n",
            "[%] Downloading Image #90 from http://villemagazine.com/images/easyblog_articles/257/true-dog-parent.jpg\n",
            "[%] File Downloaded !\n",
            "\n",
            "[%] Downloading Image #91 from https://i1.wp.com/trueworkingdogs.com/wp-content/uploads/Luke20170402_104652.jpg?fit=627%2C810&amp;ssl=1\n",
            "[%] File Downloaded !\n",
            "\n",
            "[%] Downloading Image #92 from http://englishrussia.com/wp-content/uploads/2015/04/165-800x600.jpg\n",
            "[%] File Downloaded !\n",
            "\n",
            "[%] Downloading Image #93 from http://englishrussia.com/wp-content/uploads/2015/04/416-800x600.jpg\n",
            "[%] File Downloaded !\n",
            "\n",
            "[%] Downloading Image #94 from https://englishrussia.com/wp-content/uploads/2015/04/354-800x600.jpg\n",
            "[%] File Downloaded !\n",
            "\n",
            "[%] Downloading Image #95 from http://englishrussia.com/wp-content/uploads/2015/04/392-800x600.jpg\n",
            "[%] File Downloaded !\n",
            "\n",
            "[%] Downloading Image #96 from https://i.pinimg.com/originals/f0/d3/31/f0d3319dcd0eab5156637d41093ea9f0.jpg\n",
            "[%] File Downloaded !\n",
            "\n",
            "[%] Downloading Image #97 from https://i.pinimg.com/originals/b4/74/c8/b474c8bf2801c9b312262c5ea5d002fd.jpg\n",
            "[%] File Downloaded !\n",
            "\n",
            "[%] Downloading Image #98 from https://www.petful.com/wp-content/uploads/2017/11/pit-bull-1872873_1280-750x563.jpg\n",
            "[%] File Downloaded !\n",
            "\n",
            "[%] Downloading Image #99 from https://i.pinimg.com/originals/a5/23/ee/a523eeac7310a600900d3f5d8dd0e426.jpg\n",
            "[%] File Downloaded !\n",
            "\n",
            "\n",
            "\n",
            "[!!]Indexing page: 2\n",
            "\n",
            "[%] Indexed 35 Images on Page 2.\n",
            "\n",
            "===============================================\n",
            "\n",
            "[%] Downloading Image #100 from http://englishrussia.com/wp-content/uploads/2015/04/516.jpg\n",
            "[%] File Downloaded !\n",
            "\n",
            "\n",
            "\n",
            "[%] Done. Downloaded 100 images.\n",
            "===============================================\n",
            "\n",
            "Please show your support here\n",
            "https://www.buymeacoffee.com/gurugaurav\n",
            "\n",
            "===============================================\n",
            "\n",
            "time: 31.2 s (started: 2021-06-22 19:58:53 +00:00)\n"
          ],
          "name": "stdout"
        }
      ]
    },
    {
      "cell_type": "code",
      "metadata": {
        "id": "YScej4xaxCEj",
        "colab": {
          "base_uri": "https://localhost:8080/"
        },
        "outputId": "3ba135a3-71e2-4481-d3e9-9a631d89627a"
      },
      "source": [
        "# Importing Necessary Libraries\n",
        "import os\n",
        "import matplotlib.pyplot as plt\n",
        "import numpy as np\n",
        "import pandas as pd\n",
        "from skimage.io import imread\n",
        "from skimage.transform import resize\n",
        "\n",
        "target = []\n",
        "images = []\n",
        "flat_data = []"
      ],
      "execution_count": 14,
      "outputs": [
        {
          "output_type": "stream",
          "text": [
            "time: 1.09 s (started: 2021-06-25 06:25:21 +00:00)\n"
          ],
          "name": "stdout"
        }
      ]
    },
    {
      "cell_type": "code",
      "metadata": {
        "colab": {
          "base_uri": "https://localhost:8080/"
        },
        "id": "XiSC2QJlTObD",
        "outputId": "599b6d4b-de0f-48a6-9f96-f7168f97a6f6"
      },
      "source": [
        "# Preprocessing\n",
        "for category in CATEGORIES:\n",
        "  class_num = CATEGORIES.index(category) # using CATEGORIES index for Label Encoding\n",
        "  path = os.path.join(DATADIR, category)\n",
        "  for img in os.listdir(path):\n",
        "    img_array = imread(os.path.join(path, img))\n",
        "    img_resized = resize(img_array, (150, 150, 3))\n",
        "    flat_data.append(img_resized.flatten())\n",
        "    images.append(img_resized)\n",
        "    target.append(class_num)\n",
        "\n",
        "flat_data = np.array(flat_data)\n",
        "target = np.array(target)\n",
        "images = np.array(images)    "
      ],
      "execution_count": 15,
      "outputs": [
        {
          "output_type": "stream",
          "text": [
            "time: 1min 40s (started: 2021-06-25 06:25:28 +00:00)\n"
          ],
          "name": "stdout"
        }
      ]
    },
    {
      "cell_type": "code",
      "metadata": {
        "colab": {
          "base_uri": "https://localhost:8080/"
        },
        "id": "hAC3tu5Qy4H3",
        "outputId": "d14fcfe2-4f2e-49ff-f497-c540d266e268"
      },
      "source": [
        "unique,count = np.unique(target, return_counts=True)\n",
        "print(CATEGORIES,count)"
      ],
      "execution_count": 16,
      "outputs": [
        {
          "output_type": "stream",
          "text": [
            "['cats', 'dogs'] [100 100]\n",
            "time: 2.34 ms (started: 2021-06-25 06:27:14 +00:00)\n"
          ],
          "name": "stdout"
        }
      ]
    },
    {
      "cell_type": "code",
      "metadata": {
        "colab": {
          "base_uri": "https://localhost:8080/"
        },
        "id": "xOz6mt32w5vK",
        "outputId": "8202b97a-1475-4ceb-f366-c99fa6f49807"
      },
      "source": [
        "# saving Preprocessed Data In a Dataframe and csv file\n",
        "dataframe = pd.DataFrame(flat_data,target) "
      ],
      "execution_count": 17,
      "outputs": [
        {
          "output_type": "stream",
          "text": [
            "time: 1.59 ms (started: 2021-06-25 06:27:19 +00:00)\n"
          ],
          "name": "stdout"
        }
      ]
    },
    {
      "cell_type": "code",
      "metadata": {
        "colab": {
          "base_uri": "https://localhost:8080/"
        },
        "id": "72SMT69L17hP",
        "outputId": "3fbd810d-85e9-42a8-981b-67591c524ed3"
      },
      "source": [
        "dataframe.to_csv('/content/drive/MyDrive/Colab Notebooks/DS Mini Project/train_data/cat_dog.csv')"
      ],
      "execution_count": 18,
      "outputs": [
        {
          "output_type": "stream",
          "text": [
            "time: 36.7 s (started: 2021-06-25 06:27:22 +00:00)\n"
          ],
          "name": "stdout"
        }
      ]
    },
    {
      "cell_type": "code",
      "metadata": {
        "id": "19aQ1cSX3mMd",
        "colab": {
          "base_uri": "https://localhost:8080/"
        },
        "outputId": "9353ef61-0c4b-4da7-8445-a5b477d5d05f"
      },
      "source": [
        "# importing the csv file\n",
        "import pandas as pd\n",
        "data = pd.read_csv('/content/drive/MyDrive/Colab Notebooks/DS Mini Project/train_data/cat_dog.csv')"
      ],
      "execution_count": 19,
      "outputs": [
        {
          "output_type": "stream",
          "text": [
            "time: 34.8 s (started: 2021-06-25 06:28:24 +00:00)\n"
          ],
          "name": "stdout"
        }
      ]
    },
    {
      "cell_type": "code",
      "metadata": {
        "colab": {
          "base_uri": "https://localhost:8080/",
          "height": 287
        },
        "id": "b5PZ8gFS39xw",
        "outputId": "8c6a43d2-7b66-43e1-8ff7-78746bf15a3b"
      },
      "source": [
        "data.head(5)"
      ],
      "execution_count": 26,
      "outputs": [
        {
          "output_type": "execute_result",
          "data": {
            "text/html": [
              "<div>\n",
              "<style scoped>\n",
              "    .dataframe tbody tr th:only-of-type {\n",
              "        vertical-align: middle;\n",
              "    }\n",
              "\n",
              "    .dataframe tbody tr th {\n",
              "        vertical-align: top;\n",
              "    }\n",
              "\n",
              "    .dataframe thead th {\n",
              "        text-align: right;\n",
              "    }\n",
              "</style>\n",
              "<table border=\"1\" class=\"dataframe\">\n",
              "  <thead>\n",
              "    <tr style=\"text-align: right;\">\n",
              "      <th></th>\n",
              "      <th>Unnamed: 0</th>\n",
              "      <th>0</th>\n",
              "      <th>1</th>\n",
              "      <th>2</th>\n",
              "      <th>3</th>\n",
              "      <th>4</th>\n",
              "      <th>5</th>\n",
              "      <th>6</th>\n",
              "      <th>7</th>\n",
              "      <th>8</th>\n",
              "      <th>9</th>\n",
              "      <th>10</th>\n",
              "      <th>11</th>\n",
              "      <th>12</th>\n",
              "      <th>13</th>\n",
              "      <th>14</th>\n",
              "      <th>15</th>\n",
              "      <th>16</th>\n",
              "      <th>17</th>\n",
              "      <th>18</th>\n",
              "      <th>19</th>\n",
              "      <th>20</th>\n",
              "      <th>21</th>\n",
              "      <th>22</th>\n",
              "      <th>23</th>\n",
              "      <th>24</th>\n",
              "      <th>25</th>\n",
              "      <th>26</th>\n",
              "      <th>27</th>\n",
              "      <th>28</th>\n",
              "      <th>29</th>\n",
              "      <th>30</th>\n",
              "      <th>31</th>\n",
              "      <th>32</th>\n",
              "      <th>33</th>\n",
              "      <th>34</th>\n",
              "      <th>35</th>\n",
              "      <th>36</th>\n",
              "      <th>37</th>\n",
              "      <th>38</th>\n",
              "      <th>...</th>\n",
              "      <th>67460</th>\n",
              "      <th>67461</th>\n",
              "      <th>67462</th>\n",
              "      <th>67463</th>\n",
              "      <th>67464</th>\n",
              "      <th>67465</th>\n",
              "      <th>67466</th>\n",
              "      <th>67467</th>\n",
              "      <th>67468</th>\n",
              "      <th>67469</th>\n",
              "      <th>67470</th>\n",
              "      <th>67471</th>\n",
              "      <th>67472</th>\n",
              "      <th>67473</th>\n",
              "      <th>67474</th>\n",
              "      <th>67475</th>\n",
              "      <th>67476</th>\n",
              "      <th>67477</th>\n",
              "      <th>67478</th>\n",
              "      <th>67479</th>\n",
              "      <th>67480</th>\n",
              "      <th>67481</th>\n",
              "      <th>67482</th>\n",
              "      <th>67483</th>\n",
              "      <th>67484</th>\n",
              "      <th>67485</th>\n",
              "      <th>67486</th>\n",
              "      <th>67487</th>\n",
              "      <th>67488</th>\n",
              "      <th>67489</th>\n",
              "      <th>67490</th>\n",
              "      <th>67491</th>\n",
              "      <th>67492</th>\n",
              "      <th>67493</th>\n",
              "      <th>67494</th>\n",
              "      <th>67495</th>\n",
              "      <th>67496</th>\n",
              "      <th>67497</th>\n",
              "      <th>67498</th>\n",
              "      <th>67499</th>\n",
              "    </tr>\n",
              "  </thead>\n",
              "  <tbody>\n",
              "    <tr>\n",
              "      <th>0</th>\n",
              "      <td>0</td>\n",
              "      <td>0.945098</td>\n",
              "      <td>0.960784</td>\n",
              "      <td>0.972549</td>\n",
              "      <td>0.945098</td>\n",
              "      <td>0.960784</td>\n",
              "      <td>0.972549</td>\n",
              "      <td>0.945098</td>\n",
              "      <td>0.960784</td>\n",
              "      <td>0.972549</td>\n",
              "      <td>0.945098</td>\n",
              "      <td>0.960784</td>\n",
              "      <td>0.972549</td>\n",
              "      <td>0.949020</td>\n",
              "      <td>0.964706</td>\n",
              "      <td>0.976471</td>\n",
              "      <td>0.945098</td>\n",
              "      <td>0.964706</td>\n",
              "      <td>0.976471</td>\n",
              "      <td>0.949020</td>\n",
              "      <td>0.964706</td>\n",
              "      <td>0.976471</td>\n",
              "      <td>0.952941</td>\n",
              "      <td>0.968627</td>\n",
              "      <td>0.980392</td>\n",
              "      <td>0.952941</td>\n",
              "      <td>0.968627</td>\n",
              "      <td>0.980392</td>\n",
              "      <td>0.956863</td>\n",
              "      <td>0.972549</td>\n",
              "      <td>0.980392</td>\n",
              "      <td>0.960784</td>\n",
              "      <td>0.976471</td>\n",
              "      <td>0.981098</td>\n",
              "      <td>0.964706</td>\n",
              "      <td>0.980392</td>\n",
              "      <td>0.984314</td>\n",
              "      <td>0.964706</td>\n",
              "      <td>0.980392</td>\n",
              "      <td>0.984314</td>\n",
              "      <td>...</td>\n",
              "      <td>0.691634</td>\n",
              "      <td>0.707320</td>\n",
              "      <td>0.707320</td>\n",
              "      <td>0.695556</td>\n",
              "      <td>0.705882</td>\n",
              "      <td>0.707320</td>\n",
              "      <td>0.698039</td>\n",
              "      <td>0.705882</td>\n",
              "      <td>0.710983</td>\n",
              "      <td>0.698039</td>\n",
              "      <td>0.710734</td>\n",
              "      <td>0.718577</td>\n",
              "      <td>0.701083</td>\n",
              "      <td>0.711242</td>\n",
              "      <td>0.719085</td>\n",
              "      <td>0.707320</td>\n",
              "      <td>0.715163</td>\n",
              "      <td>0.723007</td>\n",
              "      <td>0.711242</td>\n",
              "      <td>0.715163</td>\n",
              "      <td>0.723007</td>\n",
              "      <td>0.711242</td>\n",
              "      <td>0.719085</td>\n",
              "      <td>0.723007</td>\n",
              "      <td>0.711242</td>\n",
              "      <td>0.719085</td>\n",
              "      <td>0.723007</td>\n",
              "      <td>0.711242</td>\n",
              "      <td>0.716706</td>\n",
              "      <td>0.723007</td>\n",
              "      <td>0.711242</td>\n",
              "      <td>0.715163</td>\n",
              "      <td>0.723007</td>\n",
              "      <td>0.711242</td>\n",
              "      <td>0.715163</td>\n",
              "      <td>0.723007</td>\n",
              "      <td>0.711242</td>\n",
              "      <td>0.715503</td>\n",
              "      <td>0.723346</td>\n",
              "      <td>0.719425</td>\n",
              "    </tr>\n",
              "    <tr>\n",
              "      <th>1</th>\n",
              "      <td>0</td>\n",
              "      <td>0.533333</td>\n",
              "      <td>0.468627</td>\n",
              "      <td>0.206536</td>\n",
              "      <td>0.496078</td>\n",
              "      <td>0.458824</td>\n",
              "      <td>0.213725</td>\n",
              "      <td>0.417647</td>\n",
              "      <td>0.310458</td>\n",
              "      <td>0.150980</td>\n",
              "      <td>0.420261</td>\n",
              "      <td>0.343137</td>\n",
              "      <td>0.164706</td>\n",
              "      <td>0.649020</td>\n",
              "      <td>0.694118</td>\n",
              "      <td>0.537255</td>\n",
              "      <td>0.723529</td>\n",
              "      <td>0.794771</td>\n",
              "      <td>0.619608</td>\n",
              "      <td>0.696732</td>\n",
              "      <td>0.794771</td>\n",
              "      <td>0.535948</td>\n",
              "      <td>0.588235</td>\n",
              "      <td>0.686275</td>\n",
              "      <td>0.452941</td>\n",
              "      <td>0.509804</td>\n",
              "      <td>0.584314</td>\n",
              "      <td>0.339869</td>\n",
              "      <td>0.486275</td>\n",
              "      <td>0.533987</td>\n",
              "      <td>0.281699</td>\n",
              "      <td>0.641176</td>\n",
              "      <td>0.623529</td>\n",
              "      <td>0.407843</td>\n",
              "      <td>0.464052</td>\n",
              "      <td>0.406536</td>\n",
              "      <td>0.194771</td>\n",
              "      <td>0.412418</td>\n",
              "      <td>0.309150</td>\n",
              "      <td>0.135948</td>\n",
              "      <td>...</td>\n",
              "      <td>0.274510</td>\n",
              "      <td>0.346405</td>\n",
              "      <td>0.333987</td>\n",
              "      <td>0.267974</td>\n",
              "      <td>0.399346</td>\n",
              "      <td>0.376471</td>\n",
              "      <td>0.305229</td>\n",
              "      <td>0.396078</td>\n",
              "      <td>0.390196</td>\n",
              "      <td>0.345098</td>\n",
              "      <td>0.340523</td>\n",
              "      <td>0.339869</td>\n",
              "      <td>0.297386</td>\n",
              "      <td>0.295425</td>\n",
              "      <td>0.288235</td>\n",
              "      <td>0.234641</td>\n",
              "      <td>0.274510</td>\n",
              "      <td>0.256863</td>\n",
              "      <td>0.164706</td>\n",
              "      <td>0.307190</td>\n",
              "      <td>0.298693</td>\n",
              "      <td>0.216993</td>\n",
              "      <td>0.322222</td>\n",
              "      <td>0.305882</td>\n",
              "      <td>0.224183</td>\n",
              "      <td>0.303922</td>\n",
              "      <td>0.290196</td>\n",
              "      <td>0.219608</td>\n",
              "      <td>0.306536</td>\n",
              "      <td>0.290850</td>\n",
              "      <td>0.219608</td>\n",
              "      <td>0.350980</td>\n",
              "      <td>0.331373</td>\n",
              "      <td>0.271895</td>\n",
              "      <td>0.323529</td>\n",
              "      <td>0.300000</td>\n",
              "      <td>0.235294</td>\n",
              "      <td>0.298693</td>\n",
              "      <td>0.278431</td>\n",
              "      <td>0.200000</td>\n",
              "    </tr>\n",
              "    <tr>\n",
              "      <th>2</th>\n",
              "      <td>0</td>\n",
              "      <td>0.260784</td>\n",
              "      <td>0.229412</td>\n",
              "      <td>0.221569</td>\n",
              "      <td>0.215686</td>\n",
              "      <td>0.184314</td>\n",
              "      <td>0.176471</td>\n",
              "      <td>0.152941</td>\n",
              "      <td>0.121569</td>\n",
              "      <td>0.113725</td>\n",
              "      <td>0.096078</td>\n",
              "      <td>0.066667</td>\n",
              "      <td>0.056863</td>\n",
              "      <td>0.058824</td>\n",
              "      <td>0.043137</td>\n",
              "      <td>0.031373</td>\n",
              "      <td>0.054902</td>\n",
              "      <td>0.039216</td>\n",
              "      <td>0.027451</td>\n",
              "      <td>0.052941</td>\n",
              "      <td>0.037255</td>\n",
              "      <td>0.025490</td>\n",
              "      <td>0.064706</td>\n",
              "      <td>0.045098</td>\n",
              "      <td>0.033333</td>\n",
              "      <td>0.084314</td>\n",
              "      <td>0.045098</td>\n",
              "      <td>0.029412</td>\n",
              "      <td>0.096078</td>\n",
              "      <td>0.052941</td>\n",
              "      <td>0.037255</td>\n",
              "      <td>0.107843</td>\n",
              "      <td>0.064706</td>\n",
              "      <td>0.049020</td>\n",
              "      <td>0.127451</td>\n",
              "      <td>0.080392</td>\n",
              "      <td>0.062745</td>\n",
              "      <td>0.200000</td>\n",
              "      <td>0.135294</td>\n",
              "      <td>0.100000</td>\n",
              "      <td>...</td>\n",
              "      <td>0.300118</td>\n",
              "      <td>0.386621</td>\n",
              "      <td>0.289275</td>\n",
              "      <td>0.259863</td>\n",
              "      <td>0.362745</td>\n",
              "      <td>0.265052</td>\n",
              "      <td>0.235641</td>\n",
              "      <td>0.352941</td>\n",
              "      <td>0.253288</td>\n",
              "      <td>0.220301</td>\n",
              "      <td>0.352941</td>\n",
              "      <td>0.249712</td>\n",
              "      <td>0.186621</td>\n",
              "      <td>0.345098</td>\n",
              "      <td>0.239908</td>\n",
              "      <td>0.173242</td>\n",
              "      <td>0.331373</td>\n",
              "      <td>0.226183</td>\n",
              "      <td>0.159516</td>\n",
              "      <td>0.321569</td>\n",
              "      <td>0.214418</td>\n",
              "      <td>0.147752</td>\n",
              "      <td>0.329412</td>\n",
              "      <td>0.200346</td>\n",
              "      <td>0.134601</td>\n",
              "      <td>0.319608</td>\n",
              "      <td>0.206229</td>\n",
              "      <td>0.123183</td>\n",
              "      <td>0.313725</td>\n",
              "      <td>0.221569</td>\n",
              "      <td>0.111765</td>\n",
              "      <td>0.305882</td>\n",
              "      <td>0.233333</td>\n",
              "      <td>0.105882</td>\n",
              "      <td>0.305882</td>\n",
              "      <td>0.243137</td>\n",
              "      <td>0.113725</td>\n",
              "      <td>0.307843</td>\n",
              "      <td>0.245098</td>\n",
              "      <td>0.115686</td>\n",
              "    </tr>\n",
              "    <tr>\n",
              "      <th>3</th>\n",
              "      <td>0</td>\n",
              "      <td>0.921569</td>\n",
              "      <td>0.921569</td>\n",
              "      <td>0.921569</td>\n",
              "      <td>0.921569</td>\n",
              "      <td>0.921569</td>\n",
              "      <td>0.921569</td>\n",
              "      <td>0.921569</td>\n",
              "      <td>0.921569</td>\n",
              "      <td>0.921569</td>\n",
              "      <td>0.921569</td>\n",
              "      <td>0.921569</td>\n",
              "      <td>0.921569</td>\n",
              "      <td>0.921569</td>\n",
              "      <td>0.921569</td>\n",
              "      <td>0.921569</td>\n",
              "      <td>0.921569</td>\n",
              "      <td>0.921569</td>\n",
              "      <td>0.921569</td>\n",
              "      <td>0.921569</td>\n",
              "      <td>0.921569</td>\n",
              "      <td>0.921569</td>\n",
              "      <td>0.921569</td>\n",
              "      <td>0.921569</td>\n",
              "      <td>0.921569</td>\n",
              "      <td>0.921569</td>\n",
              "      <td>0.921569</td>\n",
              "      <td>0.921569</td>\n",
              "      <td>0.921569</td>\n",
              "      <td>0.921569</td>\n",
              "      <td>0.921569</td>\n",
              "      <td>0.921569</td>\n",
              "      <td>0.921569</td>\n",
              "      <td>0.921569</td>\n",
              "      <td>0.921569</td>\n",
              "      <td>0.921569</td>\n",
              "      <td>0.921569</td>\n",
              "      <td>0.921569</td>\n",
              "      <td>0.921569</td>\n",
              "      <td>0.921569</td>\n",
              "      <td>...</td>\n",
              "      <td>0.658824</td>\n",
              "      <td>0.872549</td>\n",
              "      <td>0.803922</td>\n",
              "      <td>0.676471</td>\n",
              "      <td>0.870588</td>\n",
              "      <td>0.803922</td>\n",
              "      <td>0.668000</td>\n",
              "      <td>0.869953</td>\n",
              "      <td>0.803922</td>\n",
              "      <td>0.663067</td>\n",
              "      <td>0.878431</td>\n",
              "      <td>0.815686</td>\n",
              "      <td>0.686275</td>\n",
              "      <td>0.867216</td>\n",
              "      <td>0.800886</td>\n",
              "      <td>0.658824</td>\n",
              "      <td>0.878431</td>\n",
              "      <td>0.807725</td>\n",
              "      <td>0.674510</td>\n",
              "      <td>0.878431</td>\n",
              "      <td>0.797882</td>\n",
              "      <td>0.662745</td>\n",
              "      <td>0.878431</td>\n",
              "      <td>0.807843</td>\n",
              "      <td>0.678675</td>\n",
              "      <td>0.882353</td>\n",
              "      <td>0.815686</td>\n",
              "      <td>0.689420</td>\n",
              "      <td>0.894118</td>\n",
              "      <td>0.834690</td>\n",
              "      <td>0.709804</td>\n",
              "      <td>0.890196</td>\n",
              "      <td>0.827451</td>\n",
              "      <td>0.701961</td>\n",
              "      <td>0.878431</td>\n",
              "      <td>0.806533</td>\n",
              "      <td>0.669278</td>\n",
              "      <td>0.878431</td>\n",
              "      <td>0.803922</td>\n",
              "      <td>0.675992</td>\n",
              "    </tr>\n",
              "    <tr>\n",
              "      <th>4</th>\n",
              "      <td>0</td>\n",
              "      <td>0.007843</td>\n",
              "      <td>0.027451</td>\n",
              "      <td>0.039216</td>\n",
              "      <td>0.003922</td>\n",
              "      <td>0.023529</td>\n",
              "      <td>0.037582</td>\n",
              "      <td>0.011765</td>\n",
              "      <td>0.031373</td>\n",
              "      <td>0.047059</td>\n",
              "      <td>0.007190</td>\n",
              "      <td>0.035294</td>\n",
              "      <td>0.043137</td>\n",
              "      <td>0.005882</td>\n",
              "      <td>0.041176</td>\n",
              "      <td>0.047059</td>\n",
              "      <td>0.027342</td>\n",
              "      <td>0.050980</td>\n",
              "      <td>0.062745</td>\n",
              "      <td>0.031373</td>\n",
              "      <td>0.054248</td>\n",
              "      <td>0.058170</td>\n",
              "      <td>0.051307</td>\n",
              "      <td>0.067320</td>\n",
              "      <td>0.071242</td>\n",
              "      <td>0.085730</td>\n",
              "      <td>0.101307</td>\n",
              "      <td>0.105338</td>\n",
              "      <td>0.122222</td>\n",
              "      <td>0.145207</td>\n",
              "      <td>0.146296</td>\n",
              "      <td>0.188889</td>\n",
              "      <td>0.208824</td>\n",
              "      <td>0.218301</td>\n",
              "      <td>0.229412</td>\n",
              "      <td>0.249020</td>\n",
              "      <td>0.260784</td>\n",
              "      <td>0.234096</td>\n",
              "      <td>0.253704</td>\n",
              "      <td>0.265468</td>\n",
              "      <td>...</td>\n",
              "      <td>0.654902</td>\n",
              "      <td>0.526797</td>\n",
              "      <td>0.542484</td>\n",
              "      <td>0.550980</td>\n",
              "      <td>0.412309</td>\n",
              "      <td>0.427996</td>\n",
              "      <td>0.456754</td>\n",
              "      <td>0.162418</td>\n",
              "      <td>0.191830</td>\n",
              "      <td>0.236928</td>\n",
              "      <td>0.074510</td>\n",
              "      <td>0.113725</td>\n",
              "      <td>0.147712</td>\n",
              "      <td>0.071242</td>\n",
              "      <td>0.110458</td>\n",
              "      <td>0.145752</td>\n",
              "      <td>0.075490</td>\n",
              "      <td>0.100980</td>\n",
              "      <td>0.130719</td>\n",
              "      <td>0.064052</td>\n",
              "      <td>0.091503</td>\n",
              "      <td>0.126797</td>\n",
              "      <td>0.035294</td>\n",
              "      <td>0.054248</td>\n",
              "      <td>0.077778</td>\n",
              "      <td>0.031373</td>\n",
              "      <td>0.052614</td>\n",
              "      <td>0.076471</td>\n",
              "      <td>0.043137</td>\n",
              "      <td>0.073965</td>\n",
              "      <td>0.113181</td>\n",
              "      <td>0.043137</td>\n",
              "      <td>0.073312</td>\n",
              "      <td>0.106427</td>\n",
              "      <td>0.035294</td>\n",
              "      <td>0.062745</td>\n",
              "      <td>0.098693</td>\n",
              "      <td>0.031373</td>\n",
              "      <td>0.062745</td>\n",
              "      <td>0.094118</td>\n",
              "    </tr>\n",
              "  </tbody>\n",
              "</table>\n",
              "<p>5 rows × 67501 columns</p>\n",
              "</div>"
            ],
            "text/plain": [
              "   Unnamed: 0         0         1  ...     67497     67498     67499\n",
              "0           0  0.945098  0.960784  ...  0.715503  0.723346  0.719425\n",
              "1           0  0.533333  0.468627  ...  0.298693  0.278431  0.200000\n",
              "2           0  0.260784  0.229412  ...  0.307843  0.245098  0.115686\n",
              "3           0  0.921569  0.921569  ...  0.878431  0.803922  0.675992\n",
              "4           0  0.007843  0.027451  ...  0.031373  0.062745  0.094118\n",
              "\n",
              "[5 rows x 67501 columns]"
            ]
          },
          "metadata": {
            "tags": []
          },
          "execution_count": 26
        },
        {
          "output_type": "stream",
          "text": [
            "time: 128 ms (started: 2021-06-25 06:31:39 +00:00)\n"
          ],
          "name": "stdout"
        }
      ]
    },
    {
      "cell_type": "code",
      "metadata": {
        "id": "rL3EjdBk4X3n",
        "colab": {
          "base_uri": "https://localhost:8080/"
        },
        "outputId": "9809afe4-8d34-48c8-ff62-bf40209e24bd"
      },
      "source": [
        "# Diving the dataframe into X and y\n",
        "X = data.drop(['Unnamed: 0'], axis=1)\n",
        "y = data['Unnamed: 0']"
      ],
      "execution_count": 33,
      "outputs": [
        {
          "output_type": "stream",
          "text": [
            "time: 71.9 ms (started: 2021-06-25 06:32:53 +00:00)\n"
          ],
          "name": "stdout"
        }
      ]
    },
    {
      "cell_type": "code",
      "metadata": {
        "colab": {
          "base_uri": "https://localhost:8080/"
        },
        "id": "kyE9ZZP_Twag",
        "outputId": "2ec1adcd-1140-4fe3-cc08-a477d8fd98c8"
      },
      "source": [
        "print(\"X shape: \", X.shape)\n",
        "print(\"y shape: \", y.shape)"
      ],
      "execution_count": 34,
      "outputs": [
        {
          "output_type": "stream",
          "text": [
            "X shape:  (200, 67500)\n",
            "y shape:  (200,)\n",
            "time: 2.42 ms (started: 2021-06-25 06:32:57 +00:00)\n"
          ],
          "name": "stdout"
        }
      ]
    },
    {
      "cell_type": "code",
      "metadata": {
        "id": "t3XgUwlwUJVC",
        "colab": {
          "base_uri": "https://localhost:8080/"
        },
        "outputId": "ba4b0b31-37d2-4963-be31-269401a56300"
      },
      "source": [
        "# Train Test Split\n",
        "from sklearn.model_selection import train_test_split\n",
        "X_train, X_test, y_train, y_test = train_test_split( X, y, test_size = 0.2)"
      ],
      "execution_count": 48,
      "outputs": [
        {
          "output_type": "stream",
          "text": [
            "time: 85.1 ms (started: 2021-06-25 06:38:26 +00:00)\n"
          ],
          "name": "stdout"
        }
      ]
    },
    {
      "cell_type": "code",
      "metadata": {
        "colab": {
          "base_uri": "https://localhost:8080/"
        },
        "id": "a6MD9NoGUHmM",
        "outputId": "e5db9599-a930-456d-a9e7-e86025f1eb54"
      },
      "source": [
        "print(\"X_train shape: \", X_train.shape)\n",
        "print(\"y_train shape: \", y_train.shape)\n",
        "print(\"X_test shape: \", X_test.shape)\n",
        "print(\"y_test shape: \", y_test.shape)"
      ],
      "execution_count": 49,
      "outputs": [
        {
          "output_type": "stream",
          "text": [
            "X_train shape:  (160, 67500)\n",
            "y_train shape:  (160,)\n",
            "X_test shape:  (40, 67500)\n",
            "y_test shape:  (40,)\n",
            "time: 2.44 ms (started: 2021-06-25 06:38:33 +00:00)\n"
          ],
          "name": "stdout"
        }
      ]
    },
    {
      "cell_type": "markdown",
      "metadata": {
        "id": "Qj2pXgMtWO4c"
      },
      "source": [
        "Classifiers to be used\n",
        "1. SVM\n",
        "2. KNN\n",
        "3. Random Forest Classifier\n",
        "4. Decision Tree \"\n",
        "5. Log Reg\n",
        "6. Naive Bayes\n",
        "7. XGBoost"
      ]
    },
    {
      "cell_type": "code",
      "metadata": {
        "id": "xcBTAjgH4o1G",
        "colab": {
          "base_uri": "https://localhost:8080/"
        },
        "outputId": "f5439735-6e85-415c-c0ff-2595244ce78e"
      },
      "source": [
        "# Dictionary to store Accuracy Scores of different models\n",
        "score = dict()"
      ],
      "execution_count": 50,
      "outputs": [
        {
          "output_type": "stream",
          "text": [
            "time: 1.17 ms (started: 2021-06-25 06:38:38 +00:00)\n"
          ],
          "name": "stdout"
        }
      ]
    },
    {
      "cell_type": "code",
      "metadata": {
        "colab": {
          "base_uri": "https://localhost:8080/"
        },
        "id": "kMMft3dmXuQ0",
        "outputId": "ebb88ff0-4ad9-4fc3-f6a3-a3e50d07982c"
      },
      "source": [
        "# SVC: Support Vector Classifier\n",
        "from sklearn.svm import SVC\n",
        "model_SVC = SVC()\n",
        "model_SVC.fit(X_train, y_train)\n",
        "y_pred_SVC = model_SVC.predict(X_test)\n",
        "from sklearn.metrics import confusion_matrix, classification_report, accuracy_score\n",
        "print(classification_report(y_test,y_pred_SVC))\n",
        "print(\"Accuracy Score:\", accuracy_score(y_test, y_pred_SVC))\n",
        "print(confusion_matrix(y_test,y_pred_SVC))\n",
        "score[\"SVC\"] = accuracy_score(y_test, y_pred_SVC)"
      ],
      "execution_count": 51,
      "outputs": [
        {
          "output_type": "stream",
          "text": [
            "              precision    recall  f1-score   support\n",
            "\n",
            "           0       0.59      0.59      0.59        22\n",
            "           1       0.50      0.50      0.50        18\n",
            "\n",
            "    accuracy                           0.55        40\n",
            "   macro avg       0.55      0.55      0.55        40\n",
            "weighted avg       0.55      0.55      0.55        40\n",
            "\n",
            "Accuracy Score: 0.55\n",
            "[[13  9]\n",
            " [ 9  9]]\n",
            "time: 3.87 s (started: 2021-06-25 06:38:42 +00:00)\n"
          ],
          "name": "stdout"
        }
      ]
    },
    {
      "cell_type": "code",
      "metadata": {
        "colab": {
          "base_uri": "https://localhost:8080/"
        },
        "id": "EbhOl9zpvpXr",
        "outputId": "fb9b6faf-bea7-4289-dc2e-50e237e272a3"
      },
      "source": [
        "# KNN: K Nearest Neighbour\n",
        "from sklearn.neighbors import KNeighborsClassifier\n",
        "model_KNN = KNeighborsClassifier()\n",
        "model_KNN.fit(X_train, y_train)\n",
        "y_pred_KNN = model_KNN.predict(X_test)\n",
        "print(confusion_matrix(y_test,y_pred_KNN))\n",
        "print(f\"Accuracy Score: {accuracy_score(y_test,y_pred_KNN)}\")\n",
        "print(classification_report(y_test,y_pred_KNN))\n",
        "score[\"KNN\"] = accuracy_score(y_test, y_pred_KNN)"
      ],
      "execution_count": 52,
      "outputs": [
        {
          "output_type": "stream",
          "text": [
            "[[15  7]\n",
            " [12  6]]\n",
            "Accuracy Score: 0.525\n",
            "              precision    recall  f1-score   support\n",
            "\n",
            "           0       0.56      0.68      0.61        22\n",
            "           1       0.46      0.33      0.39        18\n",
            "\n",
            "    accuracy                           0.53        40\n",
            "   macro avg       0.51      0.51      0.50        40\n",
            "weighted avg       0.51      0.53      0.51        40\n",
            "\n",
            "time: 1.61 s (started: 2021-06-25 06:38:51 +00:00)\n"
          ],
          "name": "stdout"
        }
      ]
    },
    {
      "cell_type": "code",
      "metadata": {
        "colab": {
          "base_uri": "https://localhost:8080/"
        },
        "id": "XldcpWAL_bMv",
        "outputId": "3e67f8cc-71cd-40fa-e820-1f0096a9544a"
      },
      "source": [
        "# Random Forest\n",
        "from sklearn.ensemble import RandomForestClassifier\n",
        "model_RFC = RandomForestClassifier()\n",
        "model_RFC.fit(X_train, y_train)\n",
        "y_pred_RFC = model_RFC.predict(X_test)\n",
        "print(\"Accuracy Score: \", accuracy_score(y_test, y_pred_RFC))\n",
        "print(confusion_matrix(y_test,y_pred_RFC))\n",
        "print(classification_report(y_test,y_pred_RFC))\n",
        "score[\"RFC\"] = accuracy_score(y_test, y_pred_RFC)"
      ],
      "execution_count": 53,
      "outputs": [
        {
          "output_type": "stream",
          "text": [
            "Accuracy Score:  0.6\n",
            "[[ 9 13]\n",
            " [ 3 15]]\n",
            "              precision    recall  f1-score   support\n",
            "\n",
            "           0       0.75      0.41      0.53        22\n",
            "           1       0.54      0.83      0.65        18\n",
            "\n",
            "    accuracy                           0.60        40\n",
            "   macro avg       0.64      0.62      0.59        40\n",
            "weighted avg       0.65      0.60      0.58        40\n",
            "\n",
            "time: 1.47 s (started: 2021-06-25 06:39:01 +00:00)\n"
          ],
          "name": "stdout"
        }
      ]
    },
    {
      "cell_type": "code",
      "metadata": {
        "id": "nVYEEa5XAazz",
        "colab": {
          "base_uri": "https://localhost:8080/"
        },
        "outputId": "64cd4a0b-f6ca-4eea-c662-0625186af3c1"
      },
      "source": [
        "# XGBoost\n",
        "from xgboost import XGBClassifier\n",
        "from sklearn.metrics import confusion_matrix, classification_report, accuracy_score\n",
        "model_XGB = XGBClassifier()\n",
        "model_XGB.fit(X_train, y_train)\n",
        "y_pred_XGB = model_XGB.predict(X_test)\n",
        "print(f\"XGB Score: {model_XGB.score(X_test, y_test)}\")\n",
        "print(f\"Confusion Matrix: {confusion_matrix(y_test,y_pred_XGB)}\")\n",
        "print(f\"Accuracy Score: {accuracy_score(y_test,y_pred_XGB)}\")\n",
        "print(f\"Classification Report: {classification_report(y_test,y_pred_XGB)}\")\n",
        "score[\"XGB\"] = accuracy_score(y_test, y_pred_XGB)"
      ],
      "execution_count": 54,
      "outputs": [
        {
          "output_type": "stream",
          "text": [
            "XGB Score: 0.45\n",
            "Confusion Matrix: [[10 12]\n",
            " [10  8]]\n",
            "Accuracy Score: 0.45\n",
            "Classification Report:               precision    recall  f1-score   support\n",
            "\n",
            "           0       0.50      0.45      0.48        22\n",
            "           1       0.40      0.44      0.42        18\n",
            "\n",
            "    accuracy                           0.45        40\n",
            "   macro avg       0.45      0.45      0.45        40\n",
            "weighted avg       0.45      0.45      0.45        40\n",
            "\n",
            "time: 1min 9s (started: 2021-06-25 06:39:07 +00:00)\n"
          ],
          "name": "stdout"
        }
      ]
    },
    {
      "cell_type": "code",
      "metadata": {
        "colab": {
          "base_uri": "https://localhost:8080/"
        },
        "id": "0ZPnXMGg3z6Y",
        "outputId": "e764f961-c767-4b01-8fcc-36c30c56e543"
      },
      "source": [
        "# Naive Bayes\n",
        "from sklearn.naive_bayes import GaussianNB\n",
        "model_NB = GaussianNB()\n",
        "model_NB.fit(X_train, y_train)\n",
        "y_pred_NB = model_NB.predict(X_test)\n",
        "print(f\"{confusion_matrix(y_test,y_pred_NB)}\")\n",
        "print(f\"Accuracy Score: {accuracy_score(y_test,y_pred_NB)}\")\n",
        "print(f\"{classification_report(y_test,y_pred_NB)}\")\n",
        "score[\"NB\"] = accuracy_score(y_test, y_pred_NB)"
      ],
      "execution_count": 55,
      "outputs": [
        {
          "output_type": "stream",
          "text": [
            "[[11 11]\n",
            " [ 5 13]]\n",
            "Accuracy Score: 0.6\n",
            "              precision    recall  f1-score   support\n",
            "\n",
            "           0       0.69      0.50      0.58        22\n",
            "           1       0.54      0.72      0.62        18\n",
            "\n",
            "    accuracy                           0.60        40\n",
            "   macro avg       0.61      0.61      0.60        40\n",
            "weighted avg       0.62      0.60      0.60        40\n",
            "\n",
            "time: 376 ms (started: 2021-06-25 06:40:22 +00:00)\n"
          ],
          "name": "stdout"
        }
      ]
    },
    {
      "cell_type": "code",
      "metadata": {
        "colab": {
          "base_uri": "https://localhost:8080/"
        },
        "id": "cD9S2V_Z6hSS",
        "outputId": "c6b85f5d-4e69-4a74-d367-723adaabd72d"
      },
      "source": [
        "# Logistic Regression\n",
        "from sklearn.linear_model import LogisticRegression\n",
        "model_LR = LogisticRegression()\n",
        "model_LR.fit(X_train,y_train)\n",
        "y_pred_LR = model_LR.predict(X_test)\n",
        "print(f\"{confusion_matrix(y_test,y_pred_LR)}\")\n",
        "print(f\"Accuracy Score: {accuracy_score(y_test,y_pred_LR)}\")\n",
        "print(f\"{classification_report(y_test,y_pred_LR)}\")\n",
        "score[\"LR\"] = accuracy_score(y_test, y_pred_LR)"
      ],
      "execution_count": 56,
      "outputs": [
        {
          "output_type": "stream",
          "text": [
            "[[14  8]\n",
            " [ 4 14]]\n",
            "Accuracy Score: 0.7\n",
            "              precision    recall  f1-score   support\n",
            "\n",
            "           0       0.78      0.64      0.70        22\n",
            "           1       0.64      0.78      0.70        18\n",
            "\n",
            "    accuracy                           0.70        40\n",
            "   macro avg       0.71      0.71      0.70        40\n",
            "weighted avg       0.71      0.70      0.70        40\n",
            "\n",
            "time: 4.54 s (started: 2021-06-25 06:40:25 +00:00)\n"
          ],
          "name": "stdout"
        },
        {
          "output_type": "stream",
          "text": [
            "/usr/local/lib/python3.7/dist-packages/sklearn/linear_model/_logistic.py:940: ConvergenceWarning: lbfgs failed to converge (status=1):\n",
            "STOP: TOTAL NO. of ITERATIONS REACHED LIMIT.\n",
            "\n",
            "Increase the number of iterations (max_iter) or scale the data as shown in:\n",
            "    https://scikit-learn.org/stable/modules/preprocessing.html\n",
            "Please also refer to the documentation for alternative solver options:\n",
            "    https://scikit-learn.org/stable/modules/linear_model.html#logistic-regression\n",
            "  extra_warning_msg=_LOGISTIC_SOLVER_CONVERGENCE_MSG)\n"
          ],
          "name": "stderr"
        }
      ]
    },
    {
      "cell_type": "code",
      "metadata": {
        "colab": {
          "base_uri": "https://localhost:8080/"
        },
        "id": "0AFUSIdk81CM",
        "outputId": "9a764d5a-977a-4145-b2a4-35cc0be5e297"
      },
      "source": [
        "# Decision Tree\n",
        "from sklearn.tree import DecisionTreeClassifier\n",
        "model_DT = DecisionTreeClassifier()\n",
        "model_DT.fit(X_train,y_train)\n",
        "y_pred_DT = model_DT.predict(X_test)\n",
        "print(f\"{confusion_matrix(y_test,y_pred_DT)}\")\n",
        "print(f\"Accuracy Score: {accuracy_score(y_test,y_pred_DT)}\")\n",
        "print(f\"{classification_report(y_test,y_pred_DT)}\")\n",
        "score[\"DT\"] = accuracy_score(y_test, y_pred_DT)"
      ],
      "execution_count": 57,
      "outputs": [
        {
          "output_type": "stream",
          "text": [
            "[[14  8]\n",
            " [11  7]]\n",
            "Accuracy Score: 0.525\n",
            "              precision    recall  f1-score   support\n",
            "\n",
            "           0       0.56      0.64      0.60        22\n",
            "           1       0.47      0.39      0.42        18\n",
            "\n",
            "    accuracy                           0.53        40\n",
            "   macro avg       0.51      0.51      0.51        40\n",
            "weighted avg       0.52      0.53      0.52        40\n",
            "\n",
            "time: 4.59 s (started: 2021-06-25 06:40:34 +00:00)\n"
          ],
          "name": "stdout"
        }
      ]
    },
    {
      "cell_type": "code",
      "metadata": {
        "colab": {
          "base_uri": "https://localhost:8080/"
        },
        "id": "l7gHJzRB8m_f",
        "outputId": "66d627b8-e476-490f-fca7-6014a9650f69"
      },
      "source": [
        "score"
      ],
      "execution_count": 58,
      "outputs": [
        {
          "output_type": "execute_result",
          "data": {
            "text/plain": [
              "{'DT': 0.525,\n",
              " 'KNN': 0.525,\n",
              " 'LR': 0.7,\n",
              " 'NB': 0.6,\n",
              " 'RFC': 0.6,\n",
              " 'SVC': 0.55,\n",
              " 'XGB': 0.45}"
            ]
          },
          "metadata": {
            "tags": []
          },
          "execution_count": 58
        },
        {
          "output_type": "stream",
          "text": [
            "time: 4.73 ms (started: 2021-06-25 06:40:44 +00:00)\n"
          ],
          "name": "stdout"
        }
      ]
    },
    {
      "cell_type": "markdown",
      "metadata": {
        "id": "q6r6n9f5cD3m"
      },
      "source": [
        "Logistic Regression Classifier Algorithm gives the highest accuracy score of 70%"
      ]
    }
  ]
}